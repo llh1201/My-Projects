{
 "cells": [
  {
   "cell_type": "code",
   "execution_count": 1,
   "id": "498c9202",
   "metadata": {},
   "outputs": [],
   "source": [
    "import gzip\n",
    "from collections import defaultdict\n",
    "import math\n",
    "import scipy.optimize\n",
    "from sklearn import svm\n",
    "import numpy\n",
    "import string\n",
    "import random\n",
    "import string\n",
    "from sklearn import linear_model\n",
    "import pandas as pd"
   ]
  },
  {
   "cell_type": "code",
   "execution_count": 111,
   "id": "a71bd7ab",
   "metadata": {},
   "outputs": [],
   "source": [
    "from csv import reader\n",
    "import json\n",
    "import statistics\n",
    "from sklearn.feature_extraction.text import TfidfVectorizer"
   ]
  },
  {
   "cell_type": "code",
   "execution_count": 3,
   "id": "5683386c",
   "metadata": {},
   "outputs": [],
   "source": [
    "import warnings\n",
    "warnings.filterwarnings(\"ignore\")"
   ]
  },
  {
   "cell_type": "code",
   "execution_count": 4,
   "id": "55dbfdd0",
   "metadata": {},
   "outputs": [],
   "source": [
    "def readGz(path):\n",
    "    for l in gzip.open(path, 'rt'):\n",
    "        yield eval(l)\n",
    "\n",
    "def readCSV(path):\n",
    "    f = gzip.open(path, 'rt')\n",
    "    f.readline()\n",
    "    for l in f:\n",
    "        yield l.strip().split(',')"
   ]
  },
  {
   "cell_type": "markdown",
   "id": "e54f88af",
   "metadata": {},
   "source": [
    "## Read Prediction"
   ]
  },
  {
   "cell_type": "code",
   "execution_count": 7,
   "id": "3fe2b110",
   "metadata": {},
   "outputs": [],
   "source": []
  },
  {
   "cell_type": "code",
   "execution_count": 8,
   "id": "c9bcbb0a",
   "metadata": {},
   "outputs": [],
   "source": []
  },
  {
   "cell_type": "code",
   "execution_count": 104,
   "id": "fa1f1a71",
   "metadata": {},
   "outputs": [],
   "source": [
    "bookCount = defaultdict(int)\n",
    "totalRead = 0\n",
    "all_items = []\n",
    "\n",
    "for user,book,_ in readCSV(\"train_Interactions.csv.gz\"):\n",
    "    bookCount[book] += 1\n",
    "    totalRead += 1\n",
    "    all_items.append((user,book,_))\n",
    "    \n",
    "threshold = totalRead/2*1.5\n",
    "    \n",
    "mostPopular = [(bookCount[x], x) for x in bookCount]\n",
    "mostPopular.sort()\n",
    "mostPopular.reverse()\n",
    "\n",
    "return1 = set()\n",
    "count = 0\n",
    "for ic, i in mostPopular:\n",
    "    count += ic\n",
    "    return1.add(i)\n",
    "    if count > threshold: break\n"
   ]
  },
  {
   "cell_type": "code",
   "execution_count": 105,
   "id": "080afa5c",
   "metadata": {},
   "outputs": [],
   "source": [
    "booksPerUser = defaultdict(list)\n",
    "usersPerBook = defaultdict(list)\n",
    "for u,b,r in all_items:\n",
    "    booksPerUser[u].append(b)\n",
    "    usersPerBook[b].append(u)"
   ]
  },
  {
   "cell_type": "code",
   "execution_count": 106,
   "id": "3d26f09f",
   "metadata": {},
   "outputs": [],
   "source": [
    "def Jaccard(s1, s2):\n",
    "    numer = len(s1.intersection(s2))\n",
    "    denom = len(s1.union(s2))\n",
    "    if denom == 0:\n",
    "        return 0\n",
    "    return numer / denom\n",
    "\n",
    "def predictReading(u,b):\n",
    "    threshold = 0.0001\n",
    "    bookreaduser2 = set(usersPerBook[b])\n",
    "    book_node = set(booksPerUser[u]) \n",
    "    similarity = []\n",
    "\n",
    "    for i in book_node:\n",
    "        similarity.append(Jaccard(bookreaduser2,set(usersPerBook[i])))\n",
    "\n",
    "    if len(similarity) > 0:\n",
    "        if sum(similarity)/len(similarity)> threshold:\n",
    "            return 1\n",
    "        return 0\n",
    "    else:\n",
    "        return 0"
   ]
  },
  {
   "cell_type": "code",
   "execution_count": 107,
   "id": "f2ed5e0d",
   "metadata": {},
   "outputs": [],
   "source": [
    "predictions = open(\"predictions_Read.csv\", 'w')\n",
    "for l in open(\"pairs_Read.csv\"):\n",
    "    if l.startswith(\"userID\"):\n",
    "    #header\n",
    "        predictions.write(l)\n",
    "        continue\n",
    "    u,b = l.strip().split(',')\n",
    "    \n",
    "    predictions.write(\"{},{},{} \\n\".format(u,b,int(b in return1 and predictReading(u,b) == 1 )))\n",
    "\n",
    "predictions.close()"
   ]
  },
  {
   "cell_type": "code",
   "execution_count": null,
   "id": "38fee07d",
   "metadata": {},
   "outputs": [],
   "source": []
  },
  {
   "cell_type": "code",
   "execution_count": null,
   "id": "d17c5355",
   "metadata": {},
   "outputs": [],
   "source": []
  },
  {
   "cell_type": "markdown",
   "id": "6787358c",
   "metadata": {},
   "source": [
    "## Category Prediction"
   ]
  },
  {
   "cell_type": "code",
   "execution_count": 49,
   "id": "58b3a49f",
   "metadata": {},
   "outputs": [],
   "source": [
    "dataset = []\n",
    "for i in readGz(\"train_Category.json.gz\"):\n",
    "    dataset.append(i)\n"
   ]
  },
  {
   "cell_type": "code",
   "execution_count": 50,
   "id": "897e3138",
   "metadata": {},
   "outputs": [
    {
     "data": {
      "text/plain": [
       "100000"
      ]
     },
     "execution_count": 50,
     "metadata": {},
     "output_type": "execute_result"
    }
   ],
   "source": [
    "len(dataset)"
   ]
  },
  {
   "cell_type": "code",
   "execution_count": 51,
   "id": "91b9af04",
   "metadata": {},
   "outputs": [
    {
     "data": {
      "text/plain": [
       "{'user_id': 'u75242413',\n",
       " 'review_id': 'r45843137',\n",
       " 'rating': 4,\n",
       " 'review_text': \"a clever book with a deeply troubling premise and an intriguing protagonist. Thompson's clean, sparse prose style kept each page feeling light even as some rather heavy existential questions dropped upon them. I enjoyed it. \\n and that cover design is boom-pow gorgeous.\",\n",
       " 'n_votes': 1,\n",
       " 'genre': 'mystery_thriller_crime',\n",
       " 'genreID': 3}"
      ]
     },
     "execution_count": 51,
     "metadata": {},
     "output_type": "execute_result"
    }
   ],
   "source": [
    "dataset[0]"
   ]
  },
  {
   "cell_type": "code",
   "execution_count": null,
   "id": "b7953096",
   "metadata": {},
   "outputs": [],
   "source": []
  },
  {
   "cell_type": "code",
   "execution_count": 113,
   "id": "6b716cf0",
   "metadata": {},
   "outputs": [],
   "source": [
    "wordCount = defaultdict(int)\n",
    "punctuation = set(string.punctuation)\n",
    "for d in dataset:\n",
    "    r = ''.join([c for c in d['review_text'].lower() if not c in punctuation])\n",
    "    for w in r.split():\n",
    "        wordCount[w] += 1\n",
    "\n",
    "counts = [(wordCount[w], w) for w in wordCount]\n",
    "counts.sort()\n",
    "counts.reverse()\n"
   ]
  },
  {
   "cell_type": "code",
   "execution_count": 126,
   "id": "8df4e7e2",
   "metadata": {},
   "outputs": [],
   "source": [
    "words = [x[1] for x in counts[:8000]]\n",
    "wordId = dict(zip(words, range(len(words))))\n",
    "wordSet = set(words)\n",
    "def feature2(datum):\n",
    "    feat = [0]* (len(words))\n",
    "    r = ''.join([c for c in datum['review_text'].lower() if not c in punctuation])\n",
    "    for w in r.split():\n",
    "        if w in words:\n",
    "            feat[wordId[w]] += 1\n",
    "    feat.append(1) # offset\n",
    "    #feat.append(datum[\"rating\"])\n",
    "    return feat"
   ]
  },
  {
   "cell_type": "code",
   "execution_count": 127,
   "id": "87946f2d",
   "metadata": {},
   "outputs": [],
   "source": [
    "X = [feature2(d) for d in dataset]\n",
    "y = [d['genreID'] for d in dataset]\n",
    "clf = linear_model.LogisticRegression(C = 1, class_weight = \"balanced\",fit_intercept = False)\n",
    "clf.fit(X, y)\n",
    "theta = clf.coef_\n",
    "predict2 = clf.predict(X)"
   ]
  },
  {
   "cell_type": "code",
   "execution_count": 128,
   "id": "1e7f6ec7",
   "metadata": {},
   "outputs": [
    {
     "data": {
      "text/plain": [
       "array([3, 1, 2, 2, 2, 4, 2, 0, 0, 2, 2, 0, 3, 2, 0, 4, 2, 2, 2, 2, 4, 3,\n",
       "       2, 1, 2, 0, 2, 4, 3, 4, 0, 2, 1, 3, 1, 2, 3, 2, 1, 3, 3, 2, 0, 2,\n",
       "       2, 4, 3, 1, 4, 2, 0, 4, 3, 3, 3, 4, 2, 3, 3, 4, 4, 2, 2, 2, 2, 3,\n",
       "       3, 4, 3, 4, 3, 2, 3, 4, 4, 2, 2, 2, 2, 2, 4, 2, 3, 1, 2, 2, 3, 2,\n",
       "       4, 4, 2, 0, 4, 2, 0, 2, 2, 0, 3, 2])"
      ]
     },
     "execution_count": 128,
     "metadata": {},
     "output_type": "execute_result"
    }
   ],
   "source": [
    "predict2[:100]"
   ]
  },
  {
   "cell_type": "code",
   "execution_count": 129,
   "id": "cd0d778e",
   "metadata": {},
   "outputs": [],
   "source": [
    "predictions = open(\"predictions_Category.csv\", 'w')\n",
    "predictions.write(\"userID,reviewID,prediction\\n\")\n",
    "\n",
    "pred2 = []\n",
    "X3 = []\n",
    "result2 = []\n",
    "for l in readGz(\"test_Category.json.gz\"):\n",
    "    result2.append([l['user_id'],l['review_id']])\n",
    "    X3.append(feature2(l))\n",
    "pred2 = clf.predict(X3)\n",
    "    \n",
    "for i in range(len(pred2)):\n",
    "    predictions.write(result2[i][0] + ',' + result2[i][1] + \",\" + str(pred2[i]) + \"\\n\")\n",
    "    \n",
    "predictions.close()"
   ]
  },
  {
   "cell_type": "code",
   "execution_count": null,
   "id": "1e49d23c",
   "metadata": {},
   "outputs": [],
   "source": []
  },
  {
   "cell_type": "code",
   "execution_count": null,
   "id": "758c003a",
   "metadata": {},
   "outputs": [],
   "source": []
  }
 ],
 "metadata": {
  "kernelspec": {
   "display_name": "Python 3",
   "language": "python",
   "name": "python3"
  },
  "language_info": {
   "codemirror_mode": {
    "name": "ipython",
    "version": 3
   },
   "file_extension": ".py",
   "mimetype": "text/x-python",
   "name": "python",
   "nbconvert_exporter": "python",
   "pygments_lexer": "ipython3",
   "version": "3.8.8"
  }
 },
 "nbformat": 4,
 "nbformat_minor": 5
}
