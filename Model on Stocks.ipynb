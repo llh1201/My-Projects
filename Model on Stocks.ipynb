{
 "cells": [
  {
   "cell_type": "markdown",
   "metadata": {},
   "source": [
    "# Predict the type of stocks (SELL/BUY)\n",
    "\n",
    "Lihao Liu\n",
    "Zhen Fang"
   ]
  },
  {
   "cell_type": "markdown",
   "metadata": {},
   "source": [
    "## Summary of Findings\n",
    "\n",
    "\n",
    "### Introduction\n",
    "Given the stocks dataframe, we are interested in predicting the <mark>whether a trade is a BUY or SELL from 2020 to 2021 using binary classification</mark>, and our response variable would be **\"type\"** in the dataframe. We choose \"type\" as response variable because while analyzing representatives' trading records, trading type is an essential factor and it might be dependent to multiple factors. We didn't include data from year 2022 because we cannot predict future transaction type without present data.\n",
    "\n",
    "Response Variable: **\"type\"**\n",
    "\n",
    "Metrix: **Accuracy**. We do not choose F1-score because it's more useful when there are significant effects if false predictions occur. Thus, as accuracy is a direct and easy presentation of classifier's quality, we decide to use Accuracy as the metrix.\n",
    "\n",
    "### Baseline Model\n",
    "For baseline model,we choose **“transaction date”(nominal) and “representative”(nominal)** as features in a DecisionTreeClassifier with max_depth = 4. Since we only want to figure out transactions during 2020 and 2021, we change \"transcation date\" column from year-month-date to year_month as string. Thus, we have two nomial categoricla features through using OneHotEncoder. However, the Accuracy indicates (0.5545181727242414) our baseline model is **not a really good model** in generalizing to unseen data. Moreover, based on the confusion matrix, we can see that our model has a high false negative.\n",
    "\n",
    "\n",
    "### Final Model\n",
    "For final model,we choose **“transaction date”(nominal), “representative”(nominal), \"owner\"(nominal) and \"amount\"(ordinal)** as features in a RandomForestClassifier with **max_depth = 70 and n_neighbors = 7**, since Decisiontreeclassifier gives too much false positives. Through manual loops, we concluded to use **Randomforestclassifier with tree depth = 70**. Here, we further cleaned the dataset through merging different values with same meanings and dropping null values. The Accuracy in this model is approximately **0.678144**, which is much better than the one given in the baseline model (0.5545181727242414) and having much **less False Negatives and much more True Positives**. Also, compared to Decisiontreeclassifier (accuracy = 0.665096), RandomForestClassifier provides with **higher accuracy**, suggesting that **RandomForestClassifier is slightly better than Decisiontreeclassifier**.\n",
    "\n",
    "The reason why we decide to choose \"owner\" and \"amount\" as new features is because these two columns provide us meaningful ranges, unlike \"ticker\" or \"ptr_link\" that are too random and don't actually serve as useful characteristics. \n",
    "\n",
    "### Fairness Analysis\n",
    "In fairness analysis, we wonder if our model perform better in group whose transaction amount is larger than 500,000 than group whose transaction amount is smaller or equal to 500,000. To observe the result, we use permutation test with following hypotheses.<br>\n",
    "**Null Hypothesis**: Our model is fair. It's precision for amount larger than 500,000 and amount smaller or equal to 500,000 are same. Any differences are due to random chance. <br>\n",
    "**Alternative Hypothesis**: Our model is unfair. Its precision for amount larger than 500,00 is greater than amount smaller or equal to 500,000. <br>\n",
    "<br>\n",
    "P-value: **0.525**\n",
    "\n",
    "As a result, our p-value is relatively large(0.525) and thus we fail to reject our null hypothesis that our model is fair. In other words, it's precision for amount larger than 500,000 and amount smaller or equal to 500,000 are the same. Thus, our conclusion is that our model is fair. The precision differnece between group whose transaction amount is larger than 500,000 and group whose transaction amount is smaller or equal to 500,000 is due to random chance."
   ]
  },
  {
   "cell_type": "markdown",
   "metadata": {},
   "source": [
    "## Code"
   ]
  },
  {
   "cell_type": "code",
   "execution_count": 1,
   "metadata": {},
   "outputs": [],
   "source": [
    "import matplotlib.pyplot as plt\n",
    "import numpy as np\n",
    "import os\n",
    "import pandas as pd\n",
    "import seaborn as sns\n",
    "%config InlineBackend.figure_format = 'retina'  # Higher resolution figures"
   ]
  },
  {
   "cell_type": "markdown",
   "metadata": {},
   "source": [
    "### Baseline Model"
   ]
  },
  {
   "cell_type": "markdown",
   "metadata": {},
   "source": [
    "Import needed functions"
   ]
  },
  {
   "cell_type": "code",
   "execution_count": 2,
   "metadata": {},
   "outputs": [],
   "source": [
    "from sklearn.preprocessing import FunctionTransformer\n",
    "from sklearn.preprocessing import OneHotEncoder\n",
    "from sklearn.pipeline import Pipeline\n",
    "from sklearn.compose import ColumnTransformer\n",
    "from sklearn.tree import DecisionTreeClassifier\n",
    "from sklearn.model_selection import train_test_split\n",
    "from sklearn.tree import plot_tree\n",
    "from sklearn.preprocessing import StandardScaler\n",
    "from sklearn import metrics\n",
    "from sklearn.ensemble import RandomForestClassifier"
   ]
  },
  {
   "cell_type": "markdown",
   "metadata": {},
   "source": [
    "### Data Cleaning: \n",
    "Take the dataset \"stock\" in all_transactions.csv and define transaction range from year of 2020 and 2021, and drop columns we don't need."
   ]
  },
  {
   "cell_type": "code",
   "execution_count": 78,
   "metadata": {},
   "outputs": [
    {
     "data": {
      "text/html": [
       "<div>\n",
       "<style scoped>\n",
       "    .dataframe tbody tr th:only-of-type {\n",
       "        vertical-align: middle;\n",
       "    }\n",
       "\n",
       "    .dataframe tbody tr th {\n",
       "        vertical-align: top;\n",
       "    }\n",
       "\n",
       "    .dataframe thead th {\n",
       "        text-align: right;\n",
       "    }\n",
       "</style>\n",
       "<table border=\"1\" class=\"dataframe\">\n",
       "  <thead>\n",
       "    <tr style=\"text-align: right;\">\n",
       "      <th></th>\n",
       "      <th>disclosure_year</th>\n",
       "      <th>disclosure_date</th>\n",
       "      <th>transaction_date</th>\n",
       "      <th>owner</th>\n",
       "      <th>type</th>\n",
       "      <th>amount</th>\n",
       "      <th>representative</th>\n",
       "      <th>cap_gains_over_200_usd</th>\n",
       "    </tr>\n",
       "  </thead>\n",
       "  <tbody>\n",
       "    <tr>\n",
       "      <th>0</th>\n",
       "      <td>2021</td>\n",
       "      <td>10/04/2021</td>\n",
       "      <td>2021_09</td>\n",
       "      <td>joint</td>\n",
       "      <td>purchase</td>\n",
       "      <td>$1,001 - $15,000</td>\n",
       "      <td>Hon. Virginia Foxx</td>\n",
       "      <td>False</td>\n",
       "    </tr>\n",
       "    <tr>\n",
       "      <th>1</th>\n",
       "      <td>2021</td>\n",
       "      <td>10/04/2021</td>\n",
       "      <td>2021_09</td>\n",
       "      <td>joint</td>\n",
       "      <td>purchase</td>\n",
       "      <td>$1,001 - $15,000</td>\n",
       "      <td>Hon. Virginia Foxx</td>\n",
       "      <td>False</td>\n",
       "    </tr>\n",
       "    <tr>\n",
       "      <th>2</th>\n",
       "      <td>2021</td>\n",
       "      <td>10/04/2021</td>\n",
       "      <td>2021_09</td>\n",
       "      <td>joint</td>\n",
       "      <td>purchase</td>\n",
       "      <td>$15,001 - $50,000</td>\n",
       "      <td>Hon. Virginia Foxx</td>\n",
       "      <td>False</td>\n",
       "    </tr>\n",
       "    <tr>\n",
       "      <th>3</th>\n",
       "      <td>2021</td>\n",
       "      <td>10/04/2021</td>\n",
       "      <td>2021_09</td>\n",
       "      <td>joint</td>\n",
       "      <td>purchase</td>\n",
       "      <td>$15,001 - $50,000</td>\n",
       "      <td>Hon. Virginia Foxx</td>\n",
       "      <td>False</td>\n",
       "    </tr>\n",
       "    <tr>\n",
       "      <th>4</th>\n",
       "      <td>2021</td>\n",
       "      <td>10/04/2021</td>\n",
       "      <td>2021_09</td>\n",
       "      <td>self</td>\n",
       "      <td>sale_partial</td>\n",
       "      <td>$1,001 - $15,000</td>\n",
       "      <td>Hon. Alan S. Lowenthal</td>\n",
       "      <td>False</td>\n",
       "    </tr>\n",
       "  </tbody>\n",
       "</table>\n",
       "</div>"
      ],
      "text/plain": [
       "   disclosure_year disclosure_date transaction_date  owner          type  \\\n",
       "0             2021      10/04/2021          2021_09  joint      purchase   \n",
       "1             2021      10/04/2021          2021_09  joint      purchase   \n",
       "2             2021      10/04/2021          2021_09  joint      purchase   \n",
       "3             2021      10/04/2021          2021_09  joint      purchase   \n",
       "4             2021      10/04/2021          2021_09   self  sale_partial   \n",
       "\n",
       "              amount          representative  cap_gains_over_200_usd  \n",
       "0   $1,001 - $15,000      Hon. Virginia Foxx                   False  \n",
       "1   $1,001 - $15,000      Hon. Virginia Foxx                   False  \n",
       "2  $15,001 - $50,000      Hon. Virginia Foxx                   False  \n",
       "3  $15,001 - $50,000      Hon. Virginia Foxx                   False  \n",
       "4   $1,001 - $15,000  Hon. Alan S. Lowenthal                   False  "
      ]
     },
     "execution_count": 78,
     "metadata": {},
     "output_type": "execute_result"
    }
   ],
   "source": [
    "df = pd.read_csv(\"all_transactions.csv\")\n",
    "df['transaction_date']=df.transaction_date.str.split(\\\n",
    "             '-').apply(lambda x: x[0]+'_'+x[1])\n",
    "year = df['transaction_date'].str.split('_'\\\n",
    "            ).apply(lambda x :x[0]).astype(int)\n",
    "df = df[(year==2021)|(year ==2020)]\n",
    "df = df.drop(columns = [\"ticker\", \"asset_description\", \\\n",
    "                        \"ptr_link\", \"district\"])\n",
    "df.head()"
   ]
  },
  {
   "cell_type": "markdown",
   "metadata": {},
   "source": [
    "Only pay attention to \"purchase\", \"sale_full\" and \"sale_partial\" in transaction \"type\" and convert the types of stocks into numeric representations."
   ]
  },
  {
   "cell_type": "code",
   "execution_count": 4,
   "metadata": {},
   "outputs": [
    {
     "data": {
      "text/plain": [
       "purchase        6438\n",
       "sale_full       3697\n",
       "sale_partial    1859\n",
       "exchange         109\n",
       "Name: type, dtype: int64"
      ]
     },
     "execution_count": 4,
     "metadata": {},
     "output_type": "execute_result"
    }
   ],
   "source": [
    "df[\"type\"].value_counts()"
   ]
  },
  {
   "cell_type": "markdown",
   "metadata": {},
   "source": [
    "Select rows include 'purchase', 'sale_full', or 'sale_partial' in type column. "
   ]
  },
  {
   "cell_type": "code",
   "execution_count": 79,
   "metadata": {},
   "outputs": [
    {
     "data": {
      "text/html": [
       "<div>\n",
       "<style scoped>\n",
       "    .dataframe tbody tr th:only-of-type {\n",
       "        vertical-align: middle;\n",
       "    }\n",
       "\n",
       "    .dataframe tbody tr th {\n",
       "        vertical-align: top;\n",
       "    }\n",
       "\n",
       "    .dataframe thead th {\n",
       "        text-align: right;\n",
       "    }\n",
       "</style>\n",
       "<table border=\"1\" class=\"dataframe\">\n",
       "  <thead>\n",
       "    <tr style=\"text-align: right;\">\n",
       "      <th></th>\n",
       "      <th>disclosure_year</th>\n",
       "      <th>disclosure_date</th>\n",
       "      <th>transaction_date</th>\n",
       "      <th>owner</th>\n",
       "      <th>type</th>\n",
       "      <th>amount</th>\n",
       "      <th>representative</th>\n",
       "      <th>cap_gains_over_200_usd</th>\n",
       "    </tr>\n",
       "  </thead>\n",
       "  <tbody>\n",
       "    <tr>\n",
       "      <th>0</th>\n",
       "      <td>2021</td>\n",
       "      <td>10/04/2021</td>\n",
       "      <td>2021_09</td>\n",
       "      <td>joint</td>\n",
       "      <td>purchase</td>\n",
       "      <td>$1,001 - $15,000</td>\n",
       "      <td>Hon. Virginia Foxx</td>\n",
       "      <td>False</td>\n",
       "    </tr>\n",
       "    <tr>\n",
       "      <th>1</th>\n",
       "      <td>2021</td>\n",
       "      <td>10/04/2021</td>\n",
       "      <td>2021_09</td>\n",
       "      <td>joint</td>\n",
       "      <td>purchase</td>\n",
       "      <td>$1,001 - $15,000</td>\n",
       "      <td>Hon. Virginia Foxx</td>\n",
       "      <td>False</td>\n",
       "    </tr>\n",
       "    <tr>\n",
       "      <th>2</th>\n",
       "      <td>2021</td>\n",
       "      <td>10/04/2021</td>\n",
       "      <td>2021_09</td>\n",
       "      <td>joint</td>\n",
       "      <td>purchase</td>\n",
       "      <td>$15,001 - $50,000</td>\n",
       "      <td>Hon. Virginia Foxx</td>\n",
       "      <td>False</td>\n",
       "    </tr>\n",
       "    <tr>\n",
       "      <th>3</th>\n",
       "      <td>2021</td>\n",
       "      <td>10/04/2021</td>\n",
       "      <td>2021_09</td>\n",
       "      <td>joint</td>\n",
       "      <td>purchase</td>\n",
       "      <td>$15,001 - $50,000</td>\n",
       "      <td>Hon. Virginia Foxx</td>\n",
       "      <td>False</td>\n",
       "    </tr>\n",
       "    <tr>\n",
       "      <th>4</th>\n",
       "      <td>2021</td>\n",
       "      <td>10/04/2021</td>\n",
       "      <td>2021_09</td>\n",
       "      <td>self</td>\n",
       "      <td>sale_partial</td>\n",
       "      <td>$1,001 - $15,000</td>\n",
       "      <td>Hon. Alan S. Lowenthal</td>\n",
       "      <td>False</td>\n",
       "    </tr>\n",
       "  </tbody>\n",
       "</table>\n",
       "</div>"
      ],
      "text/plain": [
       "   disclosure_year disclosure_date transaction_date  owner          type  \\\n",
       "0             2021      10/04/2021          2021_09  joint      purchase   \n",
       "1             2021      10/04/2021          2021_09  joint      purchase   \n",
       "2             2021      10/04/2021          2021_09  joint      purchase   \n",
       "3             2021      10/04/2021          2021_09  joint      purchase   \n",
       "4             2021      10/04/2021          2021_09   self  sale_partial   \n",
       "\n",
       "              amount          representative  cap_gains_over_200_usd  \n",
       "0   $1,001 - $15,000      Hon. Virginia Foxx                   False  \n",
       "1   $1,001 - $15,000      Hon. Virginia Foxx                   False  \n",
       "2  $15,001 - $50,000      Hon. Virginia Foxx                   False  \n",
       "3  $15,001 - $50,000      Hon. Virginia Foxx                   False  \n",
       "4   $1,001 - $15,000  Hon. Alan S. Lowenthal                   False  "
      ]
     },
     "execution_count": 79,
     "metadata": {},
     "output_type": "execute_result"
    }
   ],
   "source": [
    "df= df[(df['type']=='purchase')|(df['type']=='sale_full'\\\n",
    "                    )|(df['type']=='sale_partial')]\n",
    "df.head()"
   ]
  },
  {
   "cell_type": "markdown",
   "metadata": {},
   "source": [
    "Since both sale_full and sale_partial belong to SELL, we first convert all sale_full and sale_partial to sell and then replace them with binary values 0 and 1"
   ]
  },
  {
   "cell_type": "code",
   "execution_count": 7,
   "metadata": {},
   "outputs": [],
   "source": [
    "df2 = df.copy()\n",
    "df2[\"type\"] = df2[\"type\"].replace(\"sale_partial\",\"sell\")\n",
    "df2[\"type\"] = df2[\"type\"].replace(\"sale_full\",\"sell\")"
   ]
  },
  {
   "cell_type": "code",
   "execution_count": 8,
   "metadata": {},
   "outputs": [
    {
     "data": {
      "text/plain": [
       "purchase    6438\n",
       "sell        5556\n",
       "Name: type, dtype: int64"
      ]
     },
     "execution_count": 8,
     "metadata": {},
     "output_type": "execute_result"
    }
   ],
   "source": [
    "df2[\"type\"].value_counts()"
   ]
  },
  {
   "cell_type": "code",
   "execution_count": 9,
   "metadata": {},
   "outputs": [
    {
     "data": {
      "text/html": [
       "<div>\n",
       "<style scoped>\n",
       "    .dataframe tbody tr th:only-of-type {\n",
       "        vertical-align: middle;\n",
       "    }\n",
       "\n",
       "    .dataframe tbody tr th {\n",
       "        vertical-align: top;\n",
       "    }\n",
       "\n",
       "    .dataframe thead th {\n",
       "        text-align: right;\n",
       "    }\n",
       "</style>\n",
       "<table border=\"1\" class=\"dataframe\">\n",
       "  <thead>\n",
       "    <tr style=\"text-align: right;\">\n",
       "      <th></th>\n",
       "      <th>disclosure_year</th>\n",
       "      <th>disclosure_date</th>\n",
       "      <th>transaction_date</th>\n",
       "      <th>owner</th>\n",
       "      <th>type</th>\n",
       "      <th>amount</th>\n",
       "      <th>representative</th>\n",
       "      <th>cap_gains_over_200_usd</th>\n",
       "    </tr>\n",
       "  </thead>\n",
       "  <tbody>\n",
       "    <tr>\n",
       "      <th>0</th>\n",
       "      <td>2021</td>\n",
       "      <td>10/04/2021</td>\n",
       "      <td>2021_09</td>\n",
       "      <td>joint</td>\n",
       "      <td>0</td>\n",
       "      <td>$1,001 - $15,000</td>\n",
       "      <td>Hon. Virginia Foxx</td>\n",
       "      <td>False</td>\n",
       "    </tr>\n",
       "    <tr>\n",
       "      <th>1</th>\n",
       "      <td>2021</td>\n",
       "      <td>10/04/2021</td>\n",
       "      <td>2021_09</td>\n",
       "      <td>joint</td>\n",
       "      <td>0</td>\n",
       "      <td>$1,001 - $15,000</td>\n",
       "      <td>Hon. Virginia Foxx</td>\n",
       "      <td>False</td>\n",
       "    </tr>\n",
       "    <tr>\n",
       "      <th>2</th>\n",
       "      <td>2021</td>\n",
       "      <td>10/04/2021</td>\n",
       "      <td>2021_09</td>\n",
       "      <td>joint</td>\n",
       "      <td>0</td>\n",
       "      <td>$15,001 - $50,000</td>\n",
       "      <td>Hon. Virginia Foxx</td>\n",
       "      <td>False</td>\n",
       "    </tr>\n",
       "    <tr>\n",
       "      <th>3</th>\n",
       "      <td>2021</td>\n",
       "      <td>10/04/2021</td>\n",
       "      <td>2021_09</td>\n",
       "      <td>joint</td>\n",
       "      <td>0</td>\n",
       "      <td>$15,001 - $50,000</td>\n",
       "      <td>Hon. Virginia Foxx</td>\n",
       "      <td>False</td>\n",
       "    </tr>\n",
       "    <tr>\n",
       "      <th>4</th>\n",
       "      <td>2021</td>\n",
       "      <td>10/04/2021</td>\n",
       "      <td>2021_09</td>\n",
       "      <td>self</td>\n",
       "      <td>1</td>\n",
       "      <td>$1,001 - $15,000</td>\n",
       "      <td>Hon. Alan S. Lowenthal</td>\n",
       "      <td>False</td>\n",
       "    </tr>\n",
       "  </tbody>\n",
       "</table>\n",
       "</div>"
      ],
      "text/plain": [
       "   disclosure_year disclosure_date transaction_date  owner  type  \\\n",
       "0             2021      10/04/2021          2021_09  joint     0   \n",
       "1             2021      10/04/2021          2021_09  joint     0   \n",
       "2             2021      10/04/2021          2021_09  joint     0   \n",
       "3             2021      10/04/2021          2021_09  joint     0   \n",
       "4             2021      10/04/2021          2021_09   self     1   \n",
       "\n",
       "              amount          representative  cap_gains_over_200_usd  \n",
       "0   $1,001 - $15,000      Hon. Virginia Foxx                   False  \n",
       "1   $1,001 - $15,000      Hon. Virginia Foxx                   False  \n",
       "2  $15,001 - $50,000      Hon. Virginia Foxx                   False  \n",
       "3  $15,001 - $50,000      Hon. Virginia Foxx                   False  \n",
       "4   $1,001 - $15,000  Hon. Alan S. Lowenthal                   False  "
      ]
     },
     "execution_count": 9,
     "metadata": {},
     "output_type": "execute_result"
    }
   ],
   "source": [
    "replace = {\"purchase\":0, \"sell\":1}\n",
    "df2[\"type\"] = df2[\"type\"].replace(replace)\n",
    "df2.head()"
   ]
  },
  {
   "cell_type": "code",
   "execution_count": 332,
   "metadata": {},
   "outputs": [],
   "source": [
    "#split the data into training and testing sets\n",
    "X_train, X_test, y_train, y_test = train_test_split(df2[[\\\n",
    "            'transaction_date', 'representative']], \\\n",
    "                df2['type'],random_state=1)"
   ]
  },
  {
   "cell_type": "code",
   "execution_count": 333,
   "metadata": {},
   "outputs": [],
   "source": [
    "#preprocessing of the columns\n",
    "preproc = ColumnTransformer(\n",
    "   [\n",
    "        ('ohe', OneHotEncoder(handle_unknown = 'ignore'\\\n",
    "            ), ['transaction_date','representative'])\n",
    "     \n",
    "    ]\n",
    "    ,remainder = 'passthrough'\n",
    ")"
   ]
  },
  {
   "cell_type": "code",
   "execution_count": 334,
   "metadata": {},
   "outputs": [],
   "source": [
    "#create the pipeline\n",
    "pl = Pipeline([\n",
    "    ('preprocessor', preproc),\n",
    "    ('classifier', DecisionTreeClassifier(max_depth = 4))\n",
    "])"
   ]
  },
  {
   "cell_type": "code",
   "execution_count": 335,
   "metadata": {},
   "outputs": [
    {
     "data": {
      "text/plain": [
       "Pipeline(steps=[('preprocessor',\n",
       "                 ColumnTransformer(remainder='passthrough',\n",
       "                                   transformers=[('ohe',\n",
       "                                                  OneHotEncoder(handle_unknown='ignore'),\n",
       "                                                  ['transaction_date',\n",
       "                                                   'representative'])])),\n",
       "                ('classifier', DecisionTreeClassifier(max_depth=4))])"
      ]
     },
     "execution_count": 335,
     "metadata": {},
     "output_type": "execute_result"
    }
   ],
   "source": [
    "#fit the model to the training data\n",
    "pl.fit(X_train, y_train)"
   ]
  },
  {
   "cell_type": "code",
   "execution_count": 336,
   "metadata": {},
   "outputs": [
    {
     "data": {
      "text/plain": [
       "array([0, 0, 0, ..., 0, 0, 0], dtype=int64)"
      ]
     },
     "execution_count": 336,
     "metadata": {},
     "output_type": "execute_result"
    }
   ],
   "source": [
    "y_pred_test = pl.predict(X_test)\n",
    "y_pred_test"
   ]
  },
  {
   "cell_type": "code",
   "execution_count": 337,
   "metadata": {},
   "outputs": [
    {
     "data": {
      "text/plain": [
       "0.5545181727242414"
      ]
     },
     "execution_count": 337,
     "metadata": {},
     "output_type": "execute_result"
    }
   ],
   "source": [
    "pl.score(X_test, y_test)"
   ]
  },
  {
   "cell_type": "code",
   "execution_count": 230,
   "metadata": {},
   "outputs": [
    {
     "data": {
      "text/plain": [
       "<sklearn.metrics._plot.confusion_matrix.ConfusionMatrixDisplay at 0x19fbd2ec9d0>"
      ]
     },
     "execution_count": 230,
     "metadata": {},
     "output_type": "execute_result"
    },
    {
     "data": {
      "image/png": "[encoded data removed]",
      "text/plain": [
       "<Figure size 432x288 with 2 Axes>"
      ]
     },
     "metadata": {
      "image/png": {
       "height": 261,
       "width": 318
      },
      "needs_background": "light"
     },
     "output_type": "display_data"
    }
   ],
   "source": [
    "metrics.plot_confusion_matrix(pl, X_test, y_test)"
   ]
  },
  {
   "cell_type": "markdown",
   "metadata": {},
   "source": [
    "### Final Model"
   ]
  },
  {
   "cell_type": "code",
   "execution_count": 18,
   "metadata": {},
   "outputs": [
    {
     "data": {
      "text/html": [
       "<div>\n",
       "<style scoped>\n",
       "    .dataframe tbody tr th:only-of-type {\n",
       "        vertical-align: middle;\n",
       "    }\n",
       "\n",
       "    .dataframe tbody tr th {\n",
       "        vertical-align: top;\n",
       "    }\n",
       "\n",
       "    .dataframe thead th {\n",
       "        text-align: right;\n",
       "    }\n",
       "</style>\n",
       "<table border=\"1\" class=\"dataframe\">\n",
       "  <thead>\n",
       "    <tr style=\"text-align: right;\">\n",
       "      <th></th>\n",
       "      <th>disclosure_year</th>\n",
       "      <th>disclosure_date</th>\n",
       "      <th>transaction_date</th>\n",
       "      <th>owner</th>\n",
       "      <th>type</th>\n",
       "      <th>amount</th>\n",
       "      <th>representative</th>\n",
       "      <th>cap_gains_over_200_usd</th>\n",
       "    </tr>\n",
       "  </thead>\n",
       "  <tbody>\n",
       "    <tr>\n",
       "      <th>0</th>\n",
       "      <td>2021</td>\n",
       "      <td>10/04/2021</td>\n",
       "      <td>2021_09</td>\n",
       "      <td>joint</td>\n",
       "      <td>0</td>\n",
       "      <td>$1,001 - $15,000</td>\n",
       "      <td>Hon. Virginia Foxx</td>\n",
       "      <td>False</td>\n",
       "    </tr>\n",
       "    <tr>\n",
       "      <th>1</th>\n",
       "      <td>2021</td>\n",
       "      <td>10/04/2021</td>\n",
       "      <td>2021_09</td>\n",
       "      <td>joint</td>\n",
       "      <td>0</td>\n",
       "      <td>$1,001 - $15,000</td>\n",
       "      <td>Hon. Virginia Foxx</td>\n",
       "      <td>False</td>\n",
       "    </tr>\n",
       "    <tr>\n",
       "      <th>2</th>\n",
       "      <td>2021</td>\n",
       "      <td>10/04/2021</td>\n",
       "      <td>2021_09</td>\n",
       "      <td>joint</td>\n",
       "      <td>0</td>\n",
       "      <td>$15,001 - $50,000</td>\n",
       "      <td>Hon. Virginia Foxx</td>\n",
       "      <td>False</td>\n",
       "    </tr>\n",
       "    <tr>\n",
       "      <th>3</th>\n",
       "      <td>2021</td>\n",
       "      <td>10/04/2021</td>\n",
       "      <td>2021_09</td>\n",
       "      <td>joint</td>\n",
       "      <td>0</td>\n",
       "      <td>$15,001 - $50,000</td>\n",
       "      <td>Hon. Virginia Foxx</td>\n",
       "      <td>False</td>\n",
       "    </tr>\n",
       "    <tr>\n",
       "      <th>4</th>\n",
       "      <td>2021</td>\n",
       "      <td>10/04/2021</td>\n",
       "      <td>2021_09</td>\n",
       "      <td>self</td>\n",
       "      <td>1</td>\n",
       "      <td>$1,001 - $15,000</td>\n",
       "      <td>Hon. Alan S. Lowenthal</td>\n",
       "      <td>False</td>\n",
       "    </tr>\n",
       "  </tbody>\n",
       "</table>\n",
       "</div>"
      ],
      "text/plain": [
       "   disclosure_year disclosure_date transaction_date  owner  type  \\\n",
       "0             2021      10/04/2021          2021_09  joint     0   \n",
       "1             2021      10/04/2021          2021_09  joint     0   \n",
       "2             2021      10/04/2021          2021_09  joint     0   \n",
       "3             2021      10/04/2021          2021_09  joint     0   \n",
       "4             2021      10/04/2021          2021_09   self     1   \n",
       "\n",
       "              amount          representative  cap_gains_over_200_usd  \n",
       "0   $1,001 - $15,000      Hon. Virginia Foxx                   False  \n",
       "1   $1,001 - $15,000      Hon. Virginia Foxx                   False  \n",
       "2  $15,001 - $50,000      Hon. Virginia Foxx                   False  \n",
       "3  $15,001 - $50,000      Hon. Virginia Foxx                   False  \n",
       "4   $1,001 - $15,000  Hon. Alan S. Lowenthal                   False  "
      ]
     },
     "execution_count": 18,
     "metadata": {},
     "output_type": "execute_result"
    }
   ],
   "source": [
    "df2.head()"
   ]
  },
  {
   "cell_type": "markdown",
   "metadata": {},
   "source": [
    "### Data cleaning:\n",
    "Since now we need to take \"owner\" and \"amount\" as features, we need to drop rows with null values"
   ]
  },
  {
   "cell_type": "code",
   "execution_count": 19,
   "metadata": {},
   "outputs": [
    {
     "data": {
      "text/plain": [
       "joint        3847\n",
       "self         2551\n",
       "--            725\n",
       "dependent     356\n",
       "Name: owner, dtype: int64"
      ]
     },
     "execution_count": 19,
     "metadata": {},
     "output_type": "execute_result"
    }
   ],
   "source": [
    "df2[\"owner\"].value_counts()"
   ]
  },
  {
   "cell_type": "code",
   "execution_count": 20,
   "metadata": {},
   "outputs": [
    {
     "data": {
      "text/plain": [
       "$1,001 - $15,000            8318\n",
       "$15,001 - $50,000           1950\n",
       "$50,001 - $100,000           618\n",
       "$100,001 - $250,000          489\n",
       "$1,001 -                     236\n",
       "$250,001 - $500,000          185\n",
       "$500,001 - $1,000,000        124\n",
       "$1,000,001 - $5,000,000       29\n",
       "$1,000,000 +                  28\n",
       "$5,000,001 - $25,000,000       8\n",
       "$1,000 - $15,000               4\n",
       "$15,000 - $50,000              3\n",
       "$50,000,000 +                  1\n",
       "$1,000,000 - $5,000,000        1\n",
       "Name: amount, dtype: int64"
      ]
     },
     "execution_count": 20,
     "metadata": {},
     "output_type": "execute_result"
    }
   ],
   "source": [
    "df2[\"amount\"].value_counts()"
   ]
  },
  {
   "cell_type": "markdown",
   "metadata": {},
   "source": [
    "In this case, \"--\" and \"\\\\$1,001 -\" values are all null values, and thus we need to get rid of them. Also, there are some values meaning the same although in different representations, so we need to classify them as the same. In this case, \"\\\\$1,001 - \\\\$ 15,000\" and \"\\\\$1,000 - \\\\$ 15,000\" mean the same, \"\\\\$15,001 - \\\\$ 50,000\" and \"\\\\$15,000 - \\\\$ 50,000\" mean the same, \"\\\\$1,000,001 - \\\\$ 5,000,000\", \"\\\\$1,000,000 +\" and \"\\\\$1,000,000 - \\\\$5,000,000\" mean the same, and \"\\\\$1,000,000 - \\\\$ 5,000,000\" also mean the same."
   ]
  },
  {
   "cell_type": "code",
   "execution_count": 21,
   "metadata": {},
   "outputs": [
    {
     "data": {
      "text/plain": [
       "joint        3839\n",
       "self         2329\n",
       "dependent     356\n",
       "Name: owner, dtype: int64"
      ]
     },
     "execution_count": 21,
     "metadata": {},
     "output_type": "execute_result"
    }
   ],
   "source": [
    "df3 = df2.copy()\n",
    "\n",
    "df3 = df3[df3[\"owner\"]!= \"--\"]\n",
    "\n",
    "df3 = df3[df3[\"amount\"]!= \"$1,001 -\"]\n",
    "\n",
    "df3[\"amount\"] = df3[\"amount\"].replace(\\\n",
    "                    \"$1,001 - $15,000\",\"$1,000 - $15,000\")\n",
    "df3[\"amount\"] = df3[\"amount\"].replace(\\\n",
    "            \"$1,000,001 - $5,000,000\",\"$1,000,000 - $5,000,000\")\n",
    "df3[\"amount\"] = df3[\"amount\"].replace(\\\n",
    "                \"$15,000 - $50,000\",\"$15,001 - $50,000\")\n",
    "df3[\"amount\"] = df3[\"amount\"].replace(\\\n",
    "                \"$1,000,000 +\",\"$1,000,000 - $5,000,000\")\n",
    "df3[\"amount\"] = df3[\"amount\"].replace(\\\n",
    "            \"$1,000,000 - $5,000,000\",\"$1,000,001 - $5,000,000\")\n",
    "\n",
    "df3[\"owner\"].value_counts()"
   ]
  },
  {
   "cell_type": "code",
   "execution_count": 22,
   "metadata": {},
   "outputs": [
    {
     "data": {
      "text/plain": [
       "$1,000 - $15,000            7727\n",
       "$15,001 - $50,000           1885\n",
       "$50,001 - $100,000           589\n",
       "$100,001 - $250,000          466\n",
       "$250,001 - $500,000          180\n",
       "$500,001 - $1,000,000        119\n",
       "$1,000,001 - $5,000,000       58\n",
       "$5,000,001 - $25,000,000       8\n",
       "$50,000,000 +                  1\n",
       "Name: amount, dtype: int64"
      ]
     },
     "execution_count": 22,
     "metadata": {},
     "output_type": "execute_result"
    }
   ],
   "source": [
    "df3[\"amount\"].value_counts()"
   ]
  },
  {
   "cell_type": "markdown",
   "metadata": {},
   "source": [
    "We will now convert the \"amount\" column into ordinal values from 0 to 8, 0 represents \\\\$1001-\\\\$15000 and 8 represents \\\\$50000000+"
   ]
  },
  {
   "cell_type": "code",
   "execution_count": 23,
   "metadata": {},
   "outputs": [
    {
     "data": {
      "text/html": [
       "<div>\n",
       "<style scoped>\n",
       "    .dataframe tbody tr th:only-of-type {\n",
       "        vertical-align: middle;\n",
       "    }\n",
       "\n",
       "    .dataframe tbody tr th {\n",
       "        vertical-align: top;\n",
       "    }\n",
       "\n",
       "    .dataframe thead th {\n",
       "        text-align: right;\n",
       "    }\n",
       "</style>\n",
       "<table border=\"1\" class=\"dataframe\">\n",
       "  <thead>\n",
       "    <tr style=\"text-align: right;\">\n",
       "      <th></th>\n",
       "      <th>disclosure_year</th>\n",
       "      <th>disclosure_date</th>\n",
       "      <th>transaction_date</th>\n",
       "      <th>owner</th>\n",
       "      <th>type</th>\n",
       "      <th>amount</th>\n",
       "      <th>representative</th>\n",
       "      <th>cap_gains_over_200_usd</th>\n",
       "    </tr>\n",
       "  </thead>\n",
       "  <tbody>\n",
       "    <tr>\n",
       "      <th>0</th>\n",
       "      <td>2021</td>\n",
       "      <td>10/04/2021</td>\n",
       "      <td>2021_09</td>\n",
       "      <td>joint</td>\n",
       "      <td>0</td>\n",
       "      <td>0</td>\n",
       "      <td>Hon. Virginia Foxx</td>\n",
       "      <td>False</td>\n",
       "    </tr>\n",
       "    <tr>\n",
       "      <th>1</th>\n",
       "      <td>2021</td>\n",
       "      <td>10/04/2021</td>\n",
       "      <td>2021_09</td>\n",
       "      <td>joint</td>\n",
       "      <td>0</td>\n",
       "      <td>0</td>\n",
       "      <td>Hon. Virginia Foxx</td>\n",
       "      <td>False</td>\n",
       "    </tr>\n",
       "    <tr>\n",
       "      <th>2</th>\n",
       "      <td>2021</td>\n",
       "      <td>10/04/2021</td>\n",
       "      <td>2021_09</td>\n",
       "      <td>joint</td>\n",
       "      <td>0</td>\n",
       "      <td>1</td>\n",
       "      <td>Hon. Virginia Foxx</td>\n",
       "      <td>False</td>\n",
       "    </tr>\n",
       "    <tr>\n",
       "      <th>3</th>\n",
       "      <td>2021</td>\n",
       "      <td>10/04/2021</td>\n",
       "      <td>2021_09</td>\n",
       "      <td>joint</td>\n",
       "      <td>0</td>\n",
       "      <td>1</td>\n",
       "      <td>Hon. Virginia Foxx</td>\n",
       "      <td>False</td>\n",
       "    </tr>\n",
       "    <tr>\n",
       "      <th>4</th>\n",
       "      <td>2021</td>\n",
       "      <td>10/04/2021</td>\n",
       "      <td>2021_09</td>\n",
       "      <td>self</td>\n",
       "      <td>1</td>\n",
       "      <td>0</td>\n",
       "      <td>Hon. Alan S. Lowenthal</td>\n",
       "      <td>False</td>\n",
       "    </tr>\n",
       "  </tbody>\n",
       "</table>\n",
       "</div>"
      ],
      "text/plain": [
       "   disclosure_year disclosure_date transaction_date  owner  type  amount  \\\n",
       "0             2021      10/04/2021          2021_09  joint     0       0   \n",
       "1             2021      10/04/2021          2021_09  joint     0       0   \n",
       "2             2021      10/04/2021          2021_09  joint     0       1   \n",
       "3             2021      10/04/2021          2021_09  joint     0       1   \n",
       "4             2021      10/04/2021          2021_09   self     1       0   \n",
       "\n",
       "           representative  cap_gains_over_200_usd  \n",
       "0      Hon. Virginia Foxx                   False  \n",
       "1      Hon. Virginia Foxx                   False  \n",
       "2      Hon. Virginia Foxx                   False  \n",
       "3      Hon. Virginia Foxx                   False  \n",
       "4  Hon. Alan S. Lowenthal                   False  "
      ]
     },
     "execution_count": 23,
     "metadata": {},
     "output_type": "execute_result"
    }
   ],
   "source": [
    "amount = {\"$1,000 - $15,000\":0,\"$15,001 - $50,000\":1,\\\n",
    "    \"$50,001 - $100,000\":2,\"$100,001 - $250,000\":3,\\\n",
    "        \"$250,001 - $500,000\":4,\n",
    "          \"$500,001 - $1,000,000\":5,\\\n",
    "    \"$1,000,001 - $5,000,000\":6,\\\n",
    "    \"$5,000,001 - $25,000,000\":7, \"$50,000,000 +\":8}\n",
    "df3[\"amount\"] = df3[\"amount\"].replace(amount)\n",
    "df3.head()"
   ]
  },
  {
   "cell_type": "markdown",
   "metadata": {},
   "source": [
    "Now, let's create pipelines and compare between a Decision Tree Classifier and Random Forest Classifier to see which model we better use"
   ]
  },
  {
   "cell_type": "code",
   "execution_count": 24,
   "metadata": {},
   "outputs": [],
   "source": [
    "#split the data into training and testing sets\n",
    "X_train2, X_test2, y_train2, y_test2 = train_test_split(\\\n",
    "            df3[['transaction_date', 'representative',\\\n",
    "        'amount','owner']], df3['type'],random_state=1)"
   ]
  },
  {
   "cell_type": "code",
   "execution_count": 431,
   "metadata": {},
   "outputs": [],
   "source": [
    "accuracy_test = []\n",
    "accuracy_train = []\n",
    "\n",
    "accuracy_test2 = []\n",
    "accuracy_train2 = []\n",
    "\n",
    "#def convert(amount):\n",
    "#    amounts = {\"$1,000 - $15,000\":0,\n",
    "#   \"$15,001 - $50,000\":1,\"$50,001 - $100,000\":2,\n",
    "#\"$100,001 - $250,000\":3,\"$250,001 - $500,000\":4,\n",
    "#          \"$500,001 - $1,000,000\":5,\"$1,000,001 - $5,000,000\":6,\n",
    "#\"$5,000,001 - $25,000,000\":7, \"$50,000,000 +\":8}\n",
    "#    df3[amount] = df3[amount].replace(amounts)\n",
    "#    return df3[amount]\n",
    "\n",
    "\n",
    "#create the pipeline\n",
    "for i in range(1, 101):\n",
    "    #preprocessing of the columns\n",
    "    pipe = Pipeline([('onehot', \\\n",
    "                    OneHotEncoder(handle_unknown = 'ignore'))])\n",
    "    preproc2 = ColumnTransformer(\n",
    "       [\n",
    "           #(\"convert\",FunctionTransformer(convert), ['amount']), \n",
    "           ('pipe', OneHotEncoder(\\\n",
    "                handle_unknown = 'ignore'),\\\n",
    "            ['transaction_date', 'representative','owner'])\n",
    "        ]\n",
    "         ,remainder = 'passthrough'\n",
    "    )   \n",
    "    \n",
    "    p2 = Pipeline([\n",
    "        ('preprocessor', preproc2),\n",
    "        ('classifier', DecisionTreeClassifier(max_depth = i))\n",
    "    ])\n",
    "    \n",
    "    #fit the model to the training data\n",
    "    p2.fit(X_train2, y_train2)\n",
    "    \n",
    "    #y_pred_test2 = p2.predict(X_test2)\n",
    "    #y_pred_train2 = p2.predict(X_train2)\n",
    "    \n",
    "    accuracy_test.append(p2.score(X_test2, y_test2))\n",
    "    accuracy_train.append(p2.score(X_train2, y_train2))\n",
    "    \n",
    "    \n",
    "    \n",
    "    p3 = Pipeline([\n",
    "        ('preprocessor', preproc2), \n",
    "        ('clf', RandomForestClassifier(\\\n",
    "        max_depth=i, n_estimators=7)) \n",
    "        # Uses 7 separate decision trees\n",
    "    ])\n",
    "    p3.fit(X_train2, y_train2)\n",
    "        \n",
    "    #y_pred_test3 = p3.predict(X_test2)\n",
    "    #y_pred_train3 = p3.predict(X_train2)\n",
    "        \n",
    "    accuracy_test2.append(p3.score(X_test2, y_test2))\n",
    "    accuracy_train2.append(p3.score(X_train2, y_train2))\n",
    "        "
   ]
  },
  {
   "cell_type": "code",
   "execution_count": 432,
   "metadata": {},
   "outputs": [
    {
     "data": {
      "image/png": "[encoded data removed]",
      "text/plain": [
       "<Figure size 1000x400 with 2 Axes>"
      ]
     },
     "metadata": {
      "image/png": {
       "height": 386,
       "width": 835
      },
      "needs_background": "light"
     },
     "output_type": "display_data"
    }
   ],
   "source": [
    "hyp = np.arange(1, 101)\n",
    "\n",
    "\n",
    "plt.subplots(1, 2, figsize=(10, 4), dpi=100)\n",
    "\n",
    "plt.subplot(1, 2, 1)\n",
    "plt.plot(hyp, accuracy_test, label='test accuracy')\n",
    "plt.plot(hyp, accuracy_train, label='train accuracy')\n",
    "plt.legend()\n",
    "plt.xlabel('Tree Depth')\n",
    "plt.xticks(np.arange(1, 101, 5))\n",
    "plt.title('Decision Tree Classifier accuracy')\n",
    "\n",
    "plt.subplot(1, 2, 2)\n",
    "plt.plot(hyp, accuracy_test2, label='test accuracy')\n",
    "plt.plot(hyp, accuracy_train2, label='train accuracy')\n",
    "plt.legend()\n",
    "plt.xlabel('Tree Depth')\n",
    "plt.xticks(np.arange(1, 101, 5))\n",
    "plt.title('Random Forest Classifier accuracy');"
   ]
  },
  {
   "cell_type": "code",
   "execution_count": 433,
   "metadata": {},
   "outputs": [
    {
     "data": {
      "text/html": [
       "<div>\n",
       "<style scoped>\n",
       "    .dataframe tbody tr th:only-of-type {\n",
       "        vertical-align: middle;\n",
       "    }\n",
       "\n",
       "    .dataframe tbody tr th {\n",
       "        vertical-align: top;\n",
       "    }\n",
       "\n",
       "    .dataframe thead th {\n",
       "        text-align: right;\n",
       "    }\n",
       "</style>\n",
       "<table border=\"1\" class=\"dataframe\">\n",
       "  <thead>\n",
       "    <tr style=\"text-align: right;\">\n",
       "      <th></th>\n",
       "      <th>DT_test_accuracy</th>\n",
       "    </tr>\n",
       "  </thead>\n",
       "  <tbody>\n",
       "    <tr>\n",
       "      <th>0</th>\n",
       "      <td>0.550199</td>\n",
       "    </tr>\n",
       "    <tr>\n",
       "      <th>1</th>\n",
       "      <td>0.570859</td>\n",
       "    </tr>\n",
       "    <tr>\n",
       "      <th>2</th>\n",
       "      <td>0.571221</td>\n",
       "    </tr>\n",
       "    <tr>\n",
       "      <th>3</th>\n",
       "      <td>0.571221</td>\n",
       "    </tr>\n",
       "    <tr>\n",
       "      <th>4</th>\n",
       "      <td>0.579195</td>\n",
       "    </tr>\n",
       "  </tbody>\n",
       "</table>\n",
       "</div>"
      ],
      "text/plain": [
       "   DT_test_accuracy\n",
       "0          0.550199\n",
       "1          0.570859\n",
       "2          0.571221\n",
       "3          0.571221\n",
       "4          0.579195"
      ]
     },
     "execution_count": 433,
     "metadata": {},
     "output_type": "execute_result"
    }
   ],
   "source": [
    "dataframe = pd.DataFrame()\n",
    "dataframe[\"DT_test_accuracy\"] = accuracy_test\n",
    "\n",
    "\n",
    "dataframe2 = pd.DataFrame()\n",
    "dataframe2[\"RF_test_accuracy\"] = accuracy_test2\n",
    "\n",
    "dataframe.head()"
   ]
  },
  {
   "cell_type": "code",
   "execution_count": 434,
   "metadata": {},
   "outputs": [
    {
     "data": {
      "text/html": [
       "<div>\n",
       "<style scoped>\n",
       "    .dataframe tbody tr th:only-of-type {\n",
       "        vertical-align: middle;\n",
       "    }\n",
       "\n",
       "    .dataframe tbody tr th {\n",
       "        vertical-align: top;\n",
       "    }\n",
       "\n",
       "    .dataframe thead th {\n",
       "        text-align: right;\n",
       "    }\n",
       "</style>\n",
       "<table border=\"1\" class=\"dataframe\">\n",
       "  <thead>\n",
       "    <tr style=\"text-align: right;\">\n",
       "      <th></th>\n",
       "      <th>RF_test_accuracy</th>\n",
       "    </tr>\n",
       "  </thead>\n",
       "  <tbody>\n",
       "    <tr>\n",
       "      <th>0</th>\n",
       "      <td>0.554549</td>\n",
       "    </tr>\n",
       "    <tr>\n",
       "      <th>1</th>\n",
       "      <td>0.587169</td>\n",
       "    </tr>\n",
       "    <tr>\n",
       "      <th>2</th>\n",
       "      <td>0.582820</td>\n",
       "    </tr>\n",
       "    <tr>\n",
       "      <th>3</th>\n",
       "      <td>0.569409</td>\n",
       "    </tr>\n",
       "    <tr>\n",
       "      <th>4</th>\n",
       "      <td>0.599493</td>\n",
       "    </tr>\n",
       "  </tbody>\n",
       "</table>\n",
       "</div>"
      ],
      "text/plain": [
       "   RF_test_accuracy\n",
       "0          0.554549\n",
       "1          0.587169\n",
       "2          0.582820\n",
       "3          0.569409\n",
       "4          0.599493"
      ]
     },
     "execution_count": 434,
     "metadata": {},
     "output_type": "execute_result"
    }
   ],
   "source": [
    "dataframe2.head()"
   ]
  },
  {
   "cell_type": "markdown",
   "metadata": {},
   "source": [
    "let's see at which depth the Accuracy is the highest, and it turns out that the Accuracy of Decision Tree Classifier is the highest when the tree depth is 78, and the Accuracy of Random Forest Classifier is the highest when the tree depth is 70"
   ]
  },
  {
   "cell_type": "code",
   "execution_count": 435,
   "metadata": {},
   "outputs": [
    {
     "data": {
      "text/plain": [
       "DT_test_accuracy    78\n",
       "dtype: int64"
      ]
     },
     "execution_count": 435,
     "metadata": {},
     "output_type": "execute_result"
    }
   ],
   "source": [
    "dataframe.idxmax()"
   ]
  },
  {
   "cell_type": "code",
   "execution_count": 441,
   "metadata": {},
   "outputs": [
    {
     "data": {
      "text/plain": [
       "DT_test_accuracy    0.665096\n",
       "Name: 78, dtype: float64"
      ]
     },
     "execution_count": 441,
     "metadata": {},
     "output_type": "execute_result"
    }
   ],
   "source": [
    "dataframe.iloc[78]"
   ]
  },
  {
   "cell_type": "code",
   "execution_count": 442,
   "metadata": {},
   "outputs": [
    {
     "data": {
      "text/plain": [
       "RF_test_accuracy    70\n",
       "dtype: int64"
      ]
     },
     "execution_count": 442,
     "metadata": {},
     "output_type": "execute_result"
    }
   ],
   "source": [
    "dataframe2.idxmax()"
   ]
  },
  {
   "cell_type": "code",
   "execution_count": 443,
   "metadata": {},
   "outputs": [
    {
     "data": {
      "text/plain": [
       "RF_test_accuracy    0.678144\n",
       "Name: 70, dtype: float64"
      ]
     },
     "execution_count": 443,
     "metadata": {},
     "output_type": "execute_result"
    }
   ],
   "source": [
    "dataframe2.iloc[70]"
   ]
  },
  {
   "cell_type": "markdown",
   "metadata": {},
   "source": [
    "Let's visualize the prediction of both classifier"
   ]
  },
  {
   "cell_type": "code",
   "execution_count": 439,
   "metadata": {},
   "outputs": [
    {
     "data": {
      "text/plain": [
       "<sklearn.metrics._plot.confusion_matrix.ConfusionMatrixDisplay at 0x19fc247f190>"
      ]
     },
     "execution_count": 439,
     "metadata": {},
     "output_type": "execute_result"
    },
    {
     "data": {
      "image/png": "[encoded data removed]",
      "text/plain": [
       "<Figure size 432x288 with 2 Axes>"
      ]
     },
     "metadata": {
      "image/png": {
       "height": 261,
       "width": 318
      },
      "needs_background": "light"
     },
     "output_type": "display_data"
    }
   ],
   "source": [
    "pipe = Pipeline([('onehot', OneHotEncoder(handle_unknown = 'ignore'))])\n",
    "preproc2 = ColumnTransformer(\n",
    "   [\n",
    "        ('pipe', pipe, ['transaction_date', 'representative','owner'])\n",
    "     \n",
    "    ]\n",
    "    ,remainder = 'passthrough'\n",
    ")   \n",
    "p2 = Pipeline([\n",
    "    ('preprocessor', preproc2),\n",
    "    ('classifier', DecisionTreeClassifier(max_depth = 77))\n",
    "])\n",
    "    \n",
    "#fit the model to the training data\n",
    "p2.fit(X_train2, y_train2)\n",
    "metrics.plot_confusion_matrix(p2, X_test2, y_test2)"
   ]
  },
  {
   "cell_type": "code",
   "execution_count": 440,
   "metadata": {},
   "outputs": [
    {
     "data": {
      "text/plain": [
       "<sklearn.metrics._plot.confusion_matrix.ConfusionMatrixDisplay at 0x19fc35999a0>"
      ]
     },
     "execution_count": 440,
     "metadata": {},
     "output_type": "execute_result"
    },
    {
     "data": {
      "image/png": "[encoded data removed]",
      "text/plain": [
       "<Figure size 432x288 with 2 Axes>"
      ]
     },
     "metadata": {
      "image/png": {
       "height": 261,
       "width": 318
      },
      "needs_background": "light"
     },
     "output_type": "display_data"
    }
   ],
   "source": [
    "pipe = Pipeline([('onehot', OneHotEncoder(handle_unknown = 'ignore'))])\n",
    "\n",
    "preproc2 = ColumnTransformer(\n",
    "   [\n",
    "        ('pipe', pipe, ['transaction_date', 'representative','owner'])\n",
    "     \n",
    "    ]\n",
    "    ,remainder = 'passthrough'\n",
    ")   \n",
    "\n",
    "p3 = Pipeline([\n",
    "    ('preprocessor', preproc2), \n",
    "    ('clf', RandomForestClassifier(max_depth=41, n_estimators=7))\n",
    "    # Uses 7 separate decision trees\n",
    "])\n",
    "p3.fit(X_train2, y_train2)\n",
    "\n",
    "#fit the model to the training data\n",
    "p3.fit(X_train2, y_train2)\n",
    "metrics.plot_confusion_matrix(p3, X_test2, y_test2)"
   ]
  },
  {
   "cell_type": "markdown",
   "metadata": {},
   "source": [
    "From the process shown above, we prefer to use Random Forest Classifier as our model since the accuracy seem more reliable and it makes more stable predictions. Unlike Decision Tree Classifier, the Random Forest Classifier gives comparatively balanced False Negative and False Positive predictions."
   ]
  },
  {
   "cell_type": "markdown",
   "metadata": {},
   "source": [
    "### Fairness Analysis"
   ]
  },
  {
   "cell_type": "markdown",
   "metadata": {},
   "source": [
    "We wonder if our model perform better on larger amount(amout>500,000) than smaller amount (amount <=500,000)."
   ]
  },
  {
   "cell_type": "markdown",
   "metadata": {},
   "source": [
    "Firstly, we manually binarize 'amount' smaller or equal to 500,000 to 0, and 'amount' larger than 500,000 to 1. From our df_3, we observe that amount less or equal to 500,000 are in groups {0,1,2,3,4}, and amount larger than 500,000 are in groups {5,6,7,8}. Thus, we replace groups in df_3 with 0 and 1."
   ]
  },
  {
   "cell_type": "code",
   "execution_count": 64,
   "metadata": {},
   "outputs": [
    {
     "data": {
      "text/html": [
       "<div>\n",
       "<style scoped>\n",
       "    .dataframe tbody tr th:only-of-type {\n",
       "        vertical-align: middle;\n",
       "    }\n",
       "\n",
       "    .dataframe tbody tr th {\n",
       "        vertical-align: top;\n",
       "    }\n",
       "\n",
       "    .dataframe thead th {\n",
       "        text-align: right;\n",
       "    }\n",
       "</style>\n",
       "<table border=\"1\" class=\"dataframe\">\n",
       "  <thead>\n",
       "    <tr style=\"text-align: right;\">\n",
       "      <th></th>\n",
       "      <th>disclosure_year</th>\n",
       "      <th>disclosure_date</th>\n",
       "      <th>transaction_date</th>\n",
       "      <th>owner</th>\n",
       "      <th>type</th>\n",
       "      <th>amount</th>\n",
       "      <th>representative</th>\n",
       "      <th>cap_gains_over_200_usd</th>\n",
       "    </tr>\n",
       "  </thead>\n",
       "  <tbody>\n",
       "    <tr>\n",
       "      <th>0</th>\n",
       "      <td>2021</td>\n",
       "      <td>10/04/2021</td>\n",
       "      <td>2021_09</td>\n",
       "      <td>joint</td>\n",
       "      <td>0</td>\n",
       "      <td>0</td>\n",
       "      <td>Hon. Virginia Foxx</td>\n",
       "      <td>False</td>\n",
       "    </tr>\n",
       "    <tr>\n",
       "      <th>1</th>\n",
       "      <td>2021</td>\n",
       "      <td>10/04/2021</td>\n",
       "      <td>2021_09</td>\n",
       "      <td>joint</td>\n",
       "      <td>0</td>\n",
       "      <td>0</td>\n",
       "      <td>Hon. Virginia Foxx</td>\n",
       "      <td>False</td>\n",
       "    </tr>\n",
       "    <tr>\n",
       "      <th>2</th>\n",
       "      <td>2021</td>\n",
       "      <td>10/04/2021</td>\n",
       "      <td>2021_09</td>\n",
       "      <td>joint</td>\n",
       "      <td>0</td>\n",
       "      <td>0</td>\n",
       "      <td>Hon. Virginia Foxx</td>\n",
       "      <td>False</td>\n",
       "    </tr>\n",
       "    <tr>\n",
       "      <th>3</th>\n",
       "      <td>2021</td>\n",
       "      <td>10/04/2021</td>\n",
       "      <td>2021_09</td>\n",
       "      <td>joint</td>\n",
       "      <td>0</td>\n",
       "      <td>0</td>\n",
       "      <td>Hon. Virginia Foxx</td>\n",
       "      <td>False</td>\n",
       "    </tr>\n",
       "    <tr>\n",
       "      <th>4</th>\n",
       "      <td>2021</td>\n",
       "      <td>10/04/2021</td>\n",
       "      <td>2021_09</td>\n",
       "      <td>self</td>\n",
       "      <td>1</td>\n",
       "      <td>0</td>\n",
       "      <td>Hon. Alan S. Lowenthal</td>\n",
       "      <td>False</td>\n",
       "    </tr>\n",
       "  </tbody>\n",
       "</table>\n",
       "</div>"
      ],
      "text/plain": [
       "   disclosure_year disclosure_date transaction_date  owner  type  amount  \\\n",
       "0             2021      10/04/2021          2021_09  joint     0       0   \n",
       "1             2021      10/04/2021          2021_09  joint     0       0   \n",
       "2             2021      10/04/2021          2021_09  joint     0       0   \n",
       "3             2021      10/04/2021          2021_09  joint     0       0   \n",
       "4             2021      10/04/2021          2021_09   self     1       0   \n",
       "\n",
       "           representative  cap_gains_over_200_usd  \n",
       "0      Hon. Virginia Foxx                   False  \n",
       "1      Hon. Virginia Foxx                   False  \n",
       "2      Hon. Virginia Foxx                   False  \n",
       "3      Hon. Virginia Foxx                   False  \n",
       "4  Hon. Alan S. Lowenthal                   False  "
      ]
     },
     "execution_count": 64,
     "metadata": {},
     "output_type": "execute_result"
    }
   ],
   "source": [
    "#replace 0-8 as 0-1 as description\n",
    "replace = {0:0, 1:0,2:0,3:0,4:0,5:1,6:1,7:1,8:1}\n",
    "df_fair = df3.copy()\n",
    "df_fair['amount'] = df3['amount'].replace(replace)\n",
    "df_fair.head()"
   ]
  },
  {
   "cell_type": "markdown",
   "metadata": {},
   "source": [
    "For Fairness Analysis, our null hythothesis and alternative hypothesis are: <br>\n",
    "**Null Hypothesis**: Our model is fair. It's precision for amount larger than 500,000 and amount smaller or equal to 500,000 are same. Any differences are due to random chance. <br>\n",
    "**Alternative Hypothesis**: Our model is unfair. Its precision for amount larger than 500,00 is greater than amount smaller or equal to 500,000. \n",
    " "
   ]
  },
  {
   "cell_type": "code",
   "execution_count": 65,
   "metadata": {},
   "outputs": [],
   "source": [
    "#permutation test for precision\n",
    "n = 1000\n",
    "new_df = df_fair.copy()\n",
    "precision = []\n",
    "for i in range(n):\n",
    "    #assign new shuffuled column 'new'\n",
    "    new_df['new']=np.random.permutation(df_fair['amount'])\n",
    "    #seperate new_df to rows with 'amount'==0 and 'amount'==1\n",
    "    smaller = new_df[new_df['new']==0]\n",
    "    larger = new_df[new_df['new']==1]\n",
    "    #split the data into training and testing sets\n",
    "    X_train_s, X_test_s, y_train_s, y_test_s = train_test_split(\\\n",
    "            smaller[['transaction_date', 'representative',\\\n",
    "        'amount','owner']], smaller['type'],random_state=1)\n",
    "    y_pred_test_s = p3.predict(X_test_s)\n",
    "    X_train_l, X_test_l, y_train_l, y_test_l = train_test_split(\\\n",
    "        larger[['transaction_date', 'representative','amount',\\\n",
    "                'owner']], larger['type'],random_state=1)\n",
    "    y_pred_test_l = p3.predict(X_test_l)\n",
    "    #calculate the difference of precision score of smaller \n",
    "    #amount group - larger amount group\n",
    "    precision.append(metrics.precision_score(y_test_s, \\\n",
    "            y_pred_test_s)-metrics.precision_score(\\\n",
    "                        y_test_l, y_pred_test_l))\n",
    "    "
   ]
  },
  {
   "cell_type": "code",
   "execution_count": 66,
   "metadata": {},
   "outputs": [
    {
     "data": {
      "text/plain": [
       "0.525"
      ]
     },
     "execution_count": 66,
     "metadata": {},
     "output_type": "execute_result"
    }
   ],
   "source": [
    "#calculate observe difference in precision between small amount and large amount\n",
    "df_fair_s= df_fair[df_fair['amount']==0]\n",
    "df_fair_l= df_fair[df_fair['amount']==1]\n",
    "#seperate df_fair to two groups: amount ==0 and amount==1\n",
    "X_train_s, X_test_s, y_train_s, y_test_s = train_test_split(\\\n",
    "            df_fair_s[['transaction_date', 'representative',\\\n",
    "            'amount','owner']], df_fair_s['type'],random_state=1)\n",
    "X_train_l, X_test_l, y_train_l, y_test_l = train_test_split(\\\n",
    "            df_fair_l[['transaction_date', 'representative',\\\n",
    "            'amount','owner']], df_fair_l['type'],random_state=1)\n",
    "y_pre_test_s = p3.predict(X_test_s)\n",
    "y_pre_test_l = p3.predict(X_test_l) #train and get precision\n",
    "obs_diff = metrics.precision_score(y_test_s, \\\n",
    "            y_pre_test_s)-metrics.precision_score(\\\n",
    "                    y_test_l, y_pre_test_l)\n",
    "#calcualte differences in two groups's precision\n",
    "precision = pd.Series(precision)\n",
    "pval = (precision>=obs_diff).sum()/n\n",
    "pval"
   ]
  },
  {
   "cell_type": "code",
   "execution_count": 67,
   "metadata": {},
   "outputs": [
    {
     "data": {
      "image/png": "[encoded data removed]",
      "text/plain": [
       "<Figure size 432x288 with 1 Axes>"
      ]
     },
     "metadata": {
      "image/png": {
       "height": 263,
       "width": 385
      },
      "needs_background": "light"
     },
     "output_type": "display_data"
    }
   ],
   "source": [
    "precision.plot(kind='hist', density=True, ec='w', bins=20,\\\n",
    "            title=f'P-value: {pval}', label='Simulated')\n",
    "plt.axvline(x=obs_diff, color='red', linewidth=3, label='P-value')\n",
    "\n",
    "perc = np.percentile(precision, 95) # 5% significance level\n",
    "plt.axvline(x=perc, color='y', linewidth=3, label='P-value cutoff')\n",
    "\n",
    "plt.legend();"
   ]
  },
  {
   "cell_type": "markdown",
   "metadata": {},
   "source": [
    "P-value is 0.525 and we fail to reject our null hypothesis that our model is fair. Our conclusion is that there is no differences when predicting sale or purchase in group whose transcation amount is larger than 500,000 and in group whose transaction amount is smaller or equal to 500,000. Our model is fair."
   ]
  }
 ],
 "metadata": {
  "kernelspec": {
   "display_name": "Python 3",
   "language": "python",
   "name": "python3"
  },
  "language_info": {
   "codemirror_mode": {
    "name": "ipython",
    "version": 3
   },
   "file_extension": ".py",
   "mimetype": "text/x-python",
   "name": "python",
   "nbconvert_exporter": "python",
   "pygments_lexer": "ipython3",
   "version": "3.8.8"
  }
 },
 "nbformat": 4,
 "nbformat_minor": 2
}
